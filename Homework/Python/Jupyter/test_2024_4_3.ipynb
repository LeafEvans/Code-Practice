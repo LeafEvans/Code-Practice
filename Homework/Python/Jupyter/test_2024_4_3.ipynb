{
 "cells": [
  {
   "cell_type": "markdown",
   "metadata": {},
   "source": [
    "# Python 解决线性规划问题案例"
   ]
  },
  {
   "cell_type": "code",
   "execution_count": 2,
   "metadata": {},
   "outputs": [],
   "source": [
    "import numpy as np\n",
    "import pulp as pp \n",
    "from scipy.optimize import linprog, minimize, linear_sum_assignment"
   ]
  },
  {
   "cell_type": "markdown",
   "metadata": {},
   "source": [
    "**案例**：\n",
    "$$\n",
    "\\max z = 8 x_1 - 2 x_2 + 3 x_3 - x_4 - 2 x_5 \\\\ \n",
    "\\begin{cases}\n",
    "x_1 + x_2 + x_3 + x_4 + x_5 \\le 400 \\\\\n",
    "x_1 + 2 x_2 + 2 x_3 + x_4 + 6 x_5 \\le 800 \\\\\n",
    "2 x_1 + x_2 + 6 x_3 \\le 200 \\\\\n",
    "x_3 + x_4 + 5 x_5 \\le 200 \\\\\n",
    "0 \\le x_i \\le 99,\\ i = 1,\\ 2,\\ 3,\\ 4 \\\\\n",
    "x_5 \\ge -10\n",
    "\\end{cases}"
   ]
  },
  {
   "cell_type": "code",
   "execution_count": 21,
   "metadata": {},
   "outputs": [
    {
     "name": "stdout",
     "output_type": "stream",
     "text": [
      "优化结果：812.99999999\n",
      "参数取值：[99.0, 0.0, 0.33333333, 0.0, -10.0]\n"
     ]
    }
   ],
   "source": [
    "c = [8, -2, 3, -1, -2]\n",
    "A_ub = [[1, 1, 1, 1, 1], [1, 2, 2, 1, 6], [2, 1, 6, 0, 0], [0, 0, 1, 1, 5]]\n",
    "b_ub = [400, 800, 200, 200]\n",
    "# 定义变量\n",
    "x = [pp.LpVariable(f\"x{i}\", lowBound=0, upBound=99) for i in range(1, 5)]\n",
    "x.append(pp.LpVariable(\"x5\", lowBound=-10))\n",
    "# 定义问题\n",
    "prob = pp.LpProblem(\"max_z\", sense=pp.LpMaximize)\n",
    "# 点乘\n",
    "prob += pp.lpDot(c, x)\n",
    "for i in range(len(A_ub)):\n",
    "    prob += pp.lpDot(x, A_ub[i]) <= b_ub[i]\n",
    "prob.solve()\n",
    "\n",
    "print(f\"优化结果：{pp.value(prob.objective)}\")\n",
    "print(f\"参数取值：{[pp.value(var) for var in x]}\")"
   ]
  },
  {
   "cell_type": "code",
   "execution_count": 22,
   "metadata": {},
   "outputs": [
    {
     "name": "stdout",
     "output_type": "stream",
     "text": [
      "优化结果：812.0\n",
      "参数取值：[99.0, 0.0, 0.0, 0.0, -10.0]\n"
     ]
    },
    {
     "ename": "",
     "evalue": "",
     "output_type": "error",
     "traceback": [
      "\u001b[1;31m在当前单元格或上一个单元格中执行代码时 Kernel 崩溃。\n",
      "\u001b[1;31m请查看单元格中的代码，以确定故障的可能原因。\n",
      "\u001b[1;31m单击<a href='https://aka.ms/vscodeJupyterKernelCrash'>此处</a>了解详细信息。\n",
      "\u001b[1;31m有关更多详细信息，请查看 Jupyter <a href='command:jupyter.viewOutput'>log</a>。"
     ]
    }
   ],
   "source": [
    "c = np.array([-8, 2, 3, 1, 2])\n",
    "A_ub = np.array([[1, 1, 1, 1, 1], [1, 2, 2, 1, 6], [2, 1, 6, 0, 0], [0, 0, 1, 1, 5]])\n",
    "b_ub = np.array([[400], [800], [200], [200]])\n",
    "bounds = np.array([(0, 99), (0, 99), (0, 99), (0, 99), (-10, None)])\n",
    "res = linprog(c=c, A_ub=A_ub, b_ub=b_ub, A_eq=None, b_eq=None, bounds=bounds)\n",
    "print(f\"优化结果：{-res.fun}\")\n",
    "print(f\"参数取值：{list(res.x)}\")"
   ]
  },
  {
   "cell_type": "code",
   "execution_count": 18,
   "metadata": {},
   "outputs": [
    {
     "data": {
      "text/plain": [
       "        message: Optimization terminated successfully. (HiGHS Status 7: Optimal)\n",
       "        success: True\n",
       "         status: 0\n",
       "            fun: -3466.666666666667\n",
       "              x: [ 3.333e+01  1.667e+01]\n",
       "            nit: 0\n",
       "          lower:  residual: [ 3.333e+01  1.667e+01]\n",
       "                 marginals: [ 0.000e+00  0.000e+00]\n",
       "          upper:  residual: [       inf        inf]\n",
       "                 marginals: [ 0.000e+00  0.000e+00]\n",
       "          eqlin:  residual: []\n",
       "                 marginals: []\n",
       "        ineqlin:  residual: [ 0.000e+00  2.667e+02  0.000e+00]\n",
       "                 marginals: [-6.400e+01 -0.000e+00 -2.667e+00]\n",
       " mip_node_count: 0\n",
       " mip_dual_bound: 0.0\n",
       "        mip_gap: 0.0"
      ]
     },
     "execution_count": 18,
     "metadata": {},
     "output_type": "execute_result"
    }
   ],
   "source": [
    "c = np.array([-3 * 24, -4 * 16])\n",
    "A_ub = np.array([[1, 1], [12, 8], [3, 0]])\n",
    "b_ub = np.array([50, 800, 100])\n",
    "bounds = np.array([(0, None), (0, None)])\n",
    "res = linprog(c=c, A_ub=A_ub, b_ub=b_ub, bounds=bounds)\n",
    "res"
   ]
  },
  {
   "cell_type": "code",
   "execution_count": 19,
   "metadata": {},
   "outputs": [
    {
     "data": {
      "text/plain": [
       "        message: Optimization terminated successfully. (HiGHS Status 7: Optimal)\n",
       "        success: True\n",
       "         status: 0\n",
       "            fun: -17592.592592592595\n",
       "              x: [ 1.593e+02  4.074e+01  0.000e+00  2.500e+02  0.000e+00\n",
       "                   4.500e+02]\n",
       "            nit: 7\n",
       "          lower:  residual: [ 1.593e+02  4.074e+01  0.000e+00  2.500e+02\n",
       "                              0.000e+00  4.500e+02]\n",
       "                 marginals: [ 0.000e+00  0.000e+00  1.185e+01  0.000e+00\n",
       "                              7.963e+00  0.000e+00]\n",
       "          upper:  residual: [       inf        inf        inf        inf\n",
       "                                    inf        inf]\n",
       "                 marginals: [ 0.000e+00  0.000e+00  0.000e+00  0.000e+00\n",
       "                              0.000e+00  0.000e+00]\n",
       "          eqlin:  residual: [ 0.000e+00]\n",
       "                 marginals: [ 1.722e+02]\n",
       "        ineqlin:  residual: [ 0.000e+00  0.000e+00  0.000e+00  1.350e+03]\n",
       "                 marginals: [-2.963e+01 -4.667e+01 -3.704e+00 -0.000e+00]\n",
       " mip_node_count: 0\n",
       " mip_dual_bound: 0.0\n",
       "        mip_gap: 0.0"
      ]
     },
     "execution_count": 19,
     "metadata": {},
     "output_type": "execute_result"
    }
   ],
   "source": [
    "c = [110, 120, 130, 110, 115, -150]\n",
    "A_ub = [\n",
    "    (1, 1, 0, 0, 0, 0),\n",
    "    (0, 0, 1, 1, 1, 0),\n",
    "    (8.8, 6.1, 2.0, 4.2, 5.0, -6),\n",
    "    (-8.8, -6.1, -2.0, -4.2, -5.0, 3),\n",
    "]\n",
    "b_ub = [200, 250, 0, 0]\n",
    "A_eq = [(1, 1, 1, 1, 1, -1)]\n",
    "b_eq = [(0,)]\n",
    "bounds = 6 * [(0, None)]\n",
    "res = linprog(c=c, A_ub=A_ub, b_ub=b_ub, A_eq=A_eq, b_eq=b_eq, bounds=bounds)\n",
    "res"
   ]
  },
  {
   "cell_type": "code",
   "execution_count": 24,
   "metadata": {},
   "outputs": [
    {
     "name": "stdout",
     "output_type": "stream",
     "text": [
      "优化结果：202.0\n",
      "参数取值：[101.0, 0.0, 0.0]\n"
     ]
    }
   ],
   "source": [
    "# 目标函数的系数\n",
    "c = [2, 3, 1]\n",
    "A_ub = [(1, 4, 2), (3, 2, 0)]\n",
    "b_ub = [8, 6]\n",
    "A_eq = [(1, 2, 4)]\n",
    "b_eq = [101]\n",
    "\n",
    "# 确定最大最小化问题，当前确定的是最大化问题\n",
    "m = pp.LpProblem(sense=pp.LpMaximize)\n",
    "\n",
    "# 定义三个变量放在列表中\n",
    "x = [pp.LpVariable(f\"x{i}\", lowBound=0) for i in [1, 2, 3]]\n",
    "\n",
    "# 定义目标函数，并将目标函数加入求解的问题中\n",
    "m += pp.lpDot(c, x)  # lpDot 用于计算点积\n",
    "\n",
    "# 设置比较条件\n",
    "for i in range(len(A_eq)):\n",
    "    m += pp.lpDot(A_eq[i], x) == b_eq[i]\n",
    "\n",
    "# 求解\n",
    "m.solve()\n",
    "# 输出结果\n",
    "print(f\"优化结果：{pp.value(m.objective)}\")\n",
    "print(f\"参数取值：{[pp.value(var) for var in x]}\")"
   ]
  },
  {
   "cell_type": "code",
   "execution_count": 39,
   "metadata": {},
   "outputs": [
    {
     "name": "stdout",
     "output_type": "stream",
     "text": [
      "优化结果：14.0\n",
      "参数取值：[7.0, 0.0, 0.0]\n"
     ]
    }
   ],
   "source": [
    "x1 = pp.LpVariable(\"x1\", 0, None, pp.LpInteger)\n",
    "x2 = pp.LpVariable(\"x2\", 0, None, pp.LpInteger)\n",
    "x3 = pp.LpVariable(\"x3\", 0, None, pp.LpInteger)\n",
    "prob = pp.LpProblem(\"max_z\", sense=pp.LpMaximize)\n",
    "prob += 2 * x1 + 3 * x2 - 5 * x3\n",
    "prob += x1 + x2 + x3 == 7\n",
    "prob += x1 + 3 * x2 + x3 <= 12\n",
    "prob += 2 * x1 - 5 * x2 + x3 >= 10\n",
    "\n",
    "status = prob.solve()\n",
    "print(f\"优化结果：{pp.value(prob.objective)}\")\n",
    "print(f\"参数取值：{[pp.value(var) for var in (x1, x2, x3)]}\")"
   ]
  }
 ],
 "metadata": {
  "kernelspec": {
   "display_name": "Python 3",
   "language": "python",
   "name": "python3"
  },
  "language_info": {
   "codemirror_mode": {
    "name": "ipython",
    "version": 3
   },
   "file_extension": ".py",
   "mimetype": "text/x-python",
   "name": "python",
   "nbconvert_exporter": "python",
   "pygments_lexer": "ipython3",
   "version": "3.12.1"
  }
 },
 "nbformat": 4,
 "nbformat_minor": 2
}
