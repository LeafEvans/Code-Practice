{
 "cells": [
  {
   "cell_type": "code",
   "execution_count": 5,
   "metadata": {},
   "outputs": [],
   "source": [
    "import numpy as np\n",
    "import matplotlib.pyplot as plt\n",
    "\n",
    "plt.rcParams[\"font.sans-serif\"] = [\"FangSong\"]\n",
    "plt.rcParams[\"axes.unicode_minus\"] = False\n",
    "plt.style.use(\"ggplot\")"
   ]
  },
  {
   "cell_type": "markdown",
   "metadata": {},
   "source": [
    "<img src=\"https://leafalice-image.oss-cn-hangzhou.aliyuncs.com/img/2024-03-27%2F2614032cb89b5d618cd3529013b62d69--1aa3--image-20240327124552610.png\" alt=\"image-20240327124552610\" style=\"zoom: 67%;\" />"
   ]
  },
  {
   "cell_type": "code",
   "execution_count": 19,
   "metadata": {},
   "outputs": [],
   "source": [
    "x = -1\n",
    "alpha = 0.06\n",
    "count = 0\n",
    "\n",
    "while True:\n",
    "    count += 1\n",
    "    y_last = x**2 - 3 * x + 1\n",
    "    x = x - alpha * (2 * x - 3)\n",
    "    y_next = x**2 - 3 * x + 1\n",
    "    plt.scatter(x, y_last)\n",
    "    if abs(y_next - y_last) < 1e-1000:\n",
    "        break\n",
    "print(\"最小值 x =\", x, \"最小值 y =\", y_next, \"迭代次数 n =\", count)\n",
    "x = np.linspace(-2, 2, 100)\n",
    "y = x**2 - 3 * x + 1\n",
    "plt.plot(x, y, \"--\")\n",
    "plt.show()"
   ]
  },
  {
   "cell_type": "markdown",
   "metadata": {},
   "source": [
    "<img src=\"https://leafalice-image.oss-cn-hangzhou.aliyuncs.com/img/2024-03-27%2F4409a7440f4b4728c6c2dc2355b77af6--9619--image-20240327130627038.png\" alt=\"image-20240327130627038\" style=\"zoom: 67%;\" />"
   ]
  },
  {
   "cell_type": "code",
   "execution_count": 16,
   "metadata": {},
   "outputs": [
    {
     "name": "stdout",
     "output_type": "stream",
     "text": [
      "x1 = 0.3819660112500109\n",
      "2.1083135237631723e-13\n",
      "L = 4\n"
     ]
    },
    {
     "data": {
      "image/png": "[encoded data removed]",
      "text/plain": [
       "<Figure size 640x480 with 1 Axes>"
      ]
     },
     "metadata": {},
     "output_type": "display_data"
    }
   ],
   "source": [
    "def f(x):\n",
    "    y = x**2 - 3 * x + 1\n",
    "    return y\n",
    "\n",
    "\n",
    "def g(x):\n",
    "    y = 2 * x - 3\n",
    "    return y\n",
    "\n",
    "\n",
    "x0 = 0\n",
    "e = 10 ** (-9)\n",
    "L = 0\n",
    "while abs(f(x0) - 0) > e:\n",
    "    x1 = x0 - f(x0) / g(x0)\n",
    "    x0 = x1\n",
    "    plt.scatter(x0, f(x0))\n",
    "    L += 1\n",
    "print(f\"x1 = {x1}\")\n",
    "print(f(x0) - 0)\n",
    "print(f\"L = {L}\")\n",
    "x = np.linspace(-2, 2, 1000)\n",
    "plt.plot(x, f(x), \"--\")\n",
    "plt.show()"
   ]
  }
 ],
 "metadata": {
  "kernelspec": {
   "display_name": "Python 3",
   "language": "python",
   "name": "python3"
  },
  "language_info": {
   "codemirror_mode": {
    "name": "ipython",
    "version": 3
   },
   "file_extension": ".py",
   "mimetype": "text/x-python",
   "name": "python",
   "nbconvert_exporter": "python",
   "pygments_lexer": "ipython3",
   "version": "3.12.1"
  }
 },
 "nbformat": 4,
 "nbformat_minor": 2
}
