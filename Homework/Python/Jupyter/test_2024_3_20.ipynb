{
 "cells": [
  {
   "cell_type": "code",
   "execution_count": 1,
   "metadata": {},
   "outputs": [],
   "source": [
    "from scipy.optimize import linprog\n",
    "import numpy as np\n",
    "import cvxpy as cp \n",
    "import pandas as pd"
   ]
  },
  {
   "cell_type": "markdown",
   "metadata": {},
   "source": [
    "$$\n",
    "\\min z = -x_1 + 4_2, \\\\\n",
    "s.t. \n",
    "\\begin{cases}\n",
    "-3x_1 + x_2 \\le 6, \\\\\n",
    "x_1 + 2 x_2 \\le 4, \\\\\n",
    "x_2 \\ge -3.\n",
    "\\end{cases}"
   ]
  },
  {
   "cell_type": "code",
   "execution_count": 2,
   "metadata": {},
   "outputs": [
    {
     "name": "stdout",
     "output_type": "stream",
     "text": [
      "目标函数的最小值： -22.0\n",
      "最优解为： [10. -3.]\n"
     ]
    }
   ],
   "source": [
    "c = np.array([-1, 4])\n",
    "A_ub = np.array([[-3, 1], [1, 2]])\n",
    "b_ub = np.array([6, 4])\n",
    "\n",
    "bounds = np.array([[None, None], [-3, None]])\n",
    "\n",
    "res = linprog(c, A_ub, b_ub, A_eq=None, b_eq=None, bounds=bounds)\n",
    "print(\"目标函数的最小值：\", res.fun)\n",
    "print(\"最优解为：\", res.x)"
   ]
  },
  {
   "cell_type": "markdown",
   "metadata": {},
   "source": [
    "$$\n",
    "\\min w = -x_1 + 2x_2 + 3x_3, \\\\\n",
    "s. t.\n",
    "\\begin{cases}\n",
    "-2x_1 + x_2 + x_3 \\le 9 \\\\\n",
    "3x_1 - x_2 - 2x_3 \\le -4 \\\\\n",
    "4x_1 - 2x_2 - x_3 = -6 \\\\\n",
    "x_1 \\ge -10,\\ x2 \\ge 0\n",
    "\\end{cases}"
   ]
  },
  {
   "cell_type": "code",
   "execution_count": 4,
   "metadata": {},
   "outputs": [
    {
     "name": "stdout",
     "output_type": "stream",
     "text": [
      "目标函数的最小值： 0.399999999999999\n",
      "最优解为： [-1.6  0.  -0.4]\n"
     ]
    }
   ],
   "source": [
    "c = [-1, 2, 3]\n",
    "A_ub = [[-2, 1, 1], [3, -1, -2]]\n",
    "b_ub = [[9], [-4]]\n",
    "A_eq = [[4, -2, -1]]\n",
    "b_eq = [-6]\n",
    "bounds = [[-10, None], [0, None], [None, None]]\n",
    "res = linprog(c, A_ub, b_ub, A_eq, b_eq, bounds)\n",
    "print(\"目标函数的最小值：\", res.fun)\n",
    "print(\"最优解为：\", res.x)"
   ]
  },
  {
   "cell_type": "code",
   "execution_count": null,
   "metadata": {},
   "outputs": [],
   "source": []
  }
 ],
 "metadata": {
  "kernelspec": {
   "display_name": "Python 3",
   "language": "python",
   "name": "python3"
  },
  "language_info": {
   "codemirror_mode": {
    "name": "ipython",
    "version": 3
   },
   "file_extension": ".py",
   "mimetype": "text/x-python",
   "name": "python",
   "nbconvert_exporter": "python",
   "pygments_lexer": "ipython3",
   "version": "3.12.1"
  }
 },
 "nbformat": 4,
 "nbformat_minor": 2
}
